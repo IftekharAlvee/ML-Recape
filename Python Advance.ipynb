{
 "cells": [
  {
   "cell_type": "code",
   "execution_count": 2,
   "id": "animated-floating",
   "metadata": {},
   "outputs": [],
   "source": [
    "class Car:\n",
    "    def __init__(self,window,door,enginetype):\n",
    "        self.window = window\n",
    "        self.door = door\n",
    "        self.enginetype = enginetype\n",
    "    def self_driving(self):\n",
    "        return \"This is a {} car\".format(self.enginetype)\n"
   ]
  },
  {
   "cell_type": "code",
   "execution_count": 3,
   "id": "above-judge",
   "metadata": {},
   "outputs": [],
   "source": [
    "\n",
    "Car\n",
    "\n",
    "car1 = Car(3,4,'Petrol')\n",
    "\n"
   ]
  },
  {
   "cell_type": "code",
   "execution_count": 4,
   "id": "sustainable-heading",
   "metadata": {},
   "outputs": [
    {
     "data": {
      "text/plain": [
       "'This is a Petrol car'"
      ]
     },
     "execution_count": 4,
     "metadata": {},
     "output_type": "execute_result"
    }
   ],
   "source": [
    "car1\n",
    "\n",
    "car1.self_driving()"
   ]
  },
  {
   "cell_type": "code",
   "execution_count": null,
   "id": "revised-nirvana",
   "metadata": {},
   "outputs": [],
   "source": []
  },
  {
   "cell_type": "code",
   "execution_count": null,
   "id": "intensive-musician",
   "metadata": {},
   "outputs": [],
   "source": []
  }
 ],
 "metadata": {
  "kernelspec": {
   "display_name": "Python 3",
   "language": "python",
   "name": "python3"
  },
  "language_info": {
   "codemirror_mode": {
    "name": "ipython",
    "version": 3
   },
   "file_extension": ".py",
   "mimetype": "text/x-python",
   "name": "python",
   "nbconvert_exporter": "python",
   "pygments_lexer": "ipython3",
   "version": "3.9.2"
  }
 },
 "nbformat": 4,
 "nbformat_minor": 5
}
